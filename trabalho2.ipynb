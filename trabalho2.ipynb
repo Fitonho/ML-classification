{
 "metadata": {
  "language_info": {
   "codemirror_mode": {
    "name": "ipython",
    "version": 3
   },
   "file_extension": ".py",
   "mimetype": "text/x-python",
   "name": "python",
   "nbconvert_exporter": "python",
   "pygments_lexer": "ipython3",
   "version": "3.8.5-final"
  },
  "orig_nbformat": 2,
  "kernelspec": {
   "name": "python3",
   "display_name": "Python 3",
   "language": "python"
  }
 },
 "nbformat": 4,
 "nbformat_minor": 2,
 "cells": [
  {
   "source": [
    "# Trabalho 2\n",
    "Trabalho 2 de Machine Learning: Artigo sobre Classificação"
   ],
   "cell_type": "markdown",
   "metadata": {}
  },
  {
   "source": [
    "## Data prep"
   ],
   "cell_type": "markdown",
   "metadata": {}
  },
  {
   "cell_type": "code",
   "execution_count": 1,
   "metadata": {},
   "outputs": [],
   "source": [
    "import pandas as pd\n",
    "from sklearn.model_selection import train_test_split\n",
    "from sklearn.ensemble import RandomForestClassifier\n",
    "import sklearn.metrics as metrics\n",
    "import numpy as np\n",
    "import matplotlib.pyplot as plt"
   ]
  },
  {
   "cell_type": "code",
   "execution_count": 2,
   "metadata": {},
   "outputs": [
    {
     "output_type": "execute_result",
     "data": {
      "text/plain": [
       "       Suburb           Address  Rooms Type      Price Method SellerG  \\\n",
       "0  Abbotsford      85 Turner St      2    h  1480000.0      S  Biggin   \n",
       "1  Abbotsford   25 Bloomburg St      2    h  1035000.0      S  Biggin   \n",
       "2  Abbotsford      5 Charles St      3    h  1465000.0     SP  Biggin   \n",
       "3  Abbotsford  40 Federation La      3    h   850000.0     PI  Biggin   \n",
       "4  Abbotsford       55a Park St      4    h  1600000.0     VB  Nelson   \n",
       "\n",
       "        Date  Distance  Postcode  ...  Bathroom  Car  Landsize  BuildingArea  \\\n",
       "0  3/12/2016       2.5    3067.0  ...       1.0  1.0     202.0           NaN   \n",
       "1  4/02/2016       2.5    3067.0  ...       1.0  0.0     156.0          79.0   \n",
       "2  4/03/2017       2.5    3067.0  ...       2.0  0.0     134.0         150.0   \n",
       "3  4/03/2017       2.5    3067.0  ...       2.0  1.0      94.0           NaN   \n",
       "4  4/06/2016       2.5    3067.0  ...       1.0  2.0     120.0         142.0   \n",
       "\n",
       "   YearBuilt  CouncilArea Lattitude  Longtitude             Regionname  \\\n",
       "0        NaN        Yarra  -37.7996    144.9984  Northern Metropolitan   \n",
       "1     1900.0        Yarra  -37.8079    144.9934  Northern Metropolitan   \n",
       "2     1900.0        Yarra  -37.8093    144.9944  Northern Metropolitan   \n",
       "3        NaN        Yarra  -37.7969    144.9969  Northern Metropolitan   \n",
       "4     2014.0        Yarra  -37.8072    144.9941  Northern Metropolitan   \n",
       "\n",
       "  Propertycount  \n",
       "0        4019.0  \n",
       "1        4019.0  \n",
       "2        4019.0  \n",
       "3        4019.0  \n",
       "4        4019.0  \n",
       "\n",
       "[5 rows x 21 columns]"
      ],
      "text/html": "<div>\n<style scoped>\n    .dataframe tbody tr th:only-of-type {\n        vertical-align: middle;\n    }\n\n    .dataframe tbody tr th {\n        vertical-align: top;\n    }\n\n    .dataframe thead th {\n        text-align: right;\n    }\n</style>\n<table border=\"1\" class=\"dataframe\">\n  <thead>\n    <tr style=\"text-align: right;\">\n      <th></th>\n      <th>Suburb</th>\n      <th>Address</th>\n      <th>Rooms</th>\n      <th>Type</th>\n      <th>Price</th>\n      <th>Method</th>\n      <th>SellerG</th>\n      <th>Date</th>\n      <th>Distance</th>\n      <th>Postcode</th>\n      <th>...</th>\n      <th>Bathroom</th>\n      <th>Car</th>\n      <th>Landsize</th>\n      <th>BuildingArea</th>\n      <th>YearBuilt</th>\n      <th>CouncilArea</th>\n      <th>Lattitude</th>\n      <th>Longtitude</th>\n      <th>Regionname</th>\n      <th>Propertycount</th>\n    </tr>\n  </thead>\n  <tbody>\n    <tr>\n      <th>0</th>\n      <td>Abbotsford</td>\n      <td>85 Turner St</td>\n      <td>2</td>\n      <td>h</td>\n      <td>1480000.0</td>\n      <td>S</td>\n      <td>Biggin</td>\n      <td>3/12/2016</td>\n      <td>2.5</td>\n      <td>3067.0</td>\n      <td>...</td>\n      <td>1.0</td>\n      <td>1.0</td>\n      <td>202.0</td>\n      <td>NaN</td>\n      <td>NaN</td>\n      <td>Yarra</td>\n      <td>-37.7996</td>\n      <td>144.9984</td>\n      <td>Northern Metropolitan</td>\n      <td>4019.0</td>\n    </tr>\n    <tr>\n      <th>1</th>\n      <td>Abbotsford</td>\n      <td>25 Bloomburg St</td>\n      <td>2</td>\n      <td>h</td>\n      <td>1035000.0</td>\n      <td>S</td>\n      <td>Biggin</td>\n      <td>4/02/2016</td>\n      <td>2.5</td>\n      <td>3067.0</td>\n      <td>...</td>\n      <td>1.0</td>\n      <td>0.0</td>\n      <td>156.0</td>\n      <td>79.0</td>\n      <td>1900.0</td>\n      <td>Yarra</td>\n      <td>-37.8079</td>\n      <td>144.9934</td>\n      <td>Northern Metropolitan</td>\n      <td>4019.0</td>\n    </tr>\n    <tr>\n      <th>2</th>\n      <td>Abbotsford</td>\n      <td>5 Charles St</td>\n      <td>3</td>\n      <td>h</td>\n      <td>1465000.0</td>\n      <td>SP</td>\n      <td>Biggin</td>\n      <td>4/03/2017</td>\n      <td>2.5</td>\n      <td>3067.0</td>\n      <td>...</td>\n      <td>2.0</td>\n      <td>0.0</td>\n      <td>134.0</td>\n      <td>150.0</td>\n      <td>1900.0</td>\n      <td>Yarra</td>\n      <td>-37.8093</td>\n      <td>144.9944</td>\n      <td>Northern Metropolitan</td>\n      <td>4019.0</td>\n    </tr>\n    <tr>\n      <th>3</th>\n      <td>Abbotsford</td>\n      <td>40 Federation La</td>\n      <td>3</td>\n      <td>h</td>\n      <td>850000.0</td>\n      <td>PI</td>\n      <td>Biggin</td>\n      <td>4/03/2017</td>\n      <td>2.5</td>\n      <td>3067.0</td>\n      <td>...</td>\n      <td>2.0</td>\n      <td>1.0</td>\n      <td>94.0</td>\n      <td>NaN</td>\n      <td>NaN</td>\n      <td>Yarra</td>\n      <td>-37.7969</td>\n      <td>144.9969</td>\n      <td>Northern Metropolitan</td>\n      <td>4019.0</td>\n    </tr>\n    <tr>\n      <th>4</th>\n      <td>Abbotsford</td>\n      <td>55a Park St</td>\n      <td>4</td>\n      <td>h</td>\n      <td>1600000.0</td>\n      <td>VB</td>\n      <td>Nelson</td>\n      <td>4/06/2016</td>\n      <td>2.5</td>\n      <td>3067.0</td>\n      <td>...</td>\n      <td>1.0</td>\n      <td>2.0</td>\n      <td>120.0</td>\n      <td>142.0</td>\n      <td>2014.0</td>\n      <td>Yarra</td>\n      <td>-37.8072</td>\n      <td>144.9941</td>\n      <td>Northern Metropolitan</td>\n      <td>4019.0</td>\n    </tr>\n  </tbody>\n</table>\n<p>5 rows × 21 columns</p>\n</div>"
     },
     "metadata": {},
     "execution_count": 2
    }
   ],
   "source": [
    "data = pd.read_csv('melb_data.csv')\n",
    "data.head()"
   ]
  },
  {
   "cell_type": "code",
   "execution_count": 3,
   "metadata": {},
   "outputs": [
    {
     "output_type": "execute_result",
     "data": {
      "text/plain": [
       "Index(['Suburb', 'Address', 'Rooms', 'Type', 'Price', 'Method', 'SellerG',\n",
       "       'Date', 'Distance', 'Postcode', 'Bedroom2', 'Bathroom', 'Car',\n",
       "       'Landsize', 'BuildingArea', 'YearBuilt', 'CouncilArea', 'Lattitude',\n",
       "       'Longtitude', 'Regionname', 'Propertycount'],\n",
       "      dtype='object')"
      ]
     },
     "metadata": {},
     "execution_count": 3
    }
   ],
   "source": [
    "data.columns"
   ]
  },
  {
   "cell_type": "code",
   "execution_count": 4,
   "metadata": {},
   "outputs": [
    {
     "output_type": "stream",
     "name": "stdout",
     "text": [
      "Number of instances = 13580\nNumber of attributes = 21\nNumber of missing values:\n\tSuburb: 0 ( 0.00%)\n\tAddress: 0 ( 0.00%)\n\tRooms: 0 ( 0.00%)\n\tType: 0 ( 0.00%)\n\tPrice: 0 ( 0.00%)\n\tMethod: 0 ( 0.00%)\n\tSellerG: 0 ( 0.00%)\n\tDate: 0 ( 0.00%)\n\tDistance: 0 ( 0.00%)\n\tPostcode: 0 ( 0.00%)\n\tBedroom2: 0 ( 0.00%)\n\tBathroom: 0 ( 0.00%)\n\tCar: 62 ( 0.46%)\n\tLandsize: 0 ( 0.00%)\n\tBuildingArea: 6450 (47.50%)\n\tYearBuilt: 5375 (39.58%)\n\tCouncilArea: 1369 (10.08%)\n\tLattitude: 0 ( 0.00%)\n\tLongtitude: 0 ( 0.00%)\n\tRegionname: 0 ( 0.00%)\n\tPropertycount: 0 ( 0.00%)\n"
     ]
    }
   ],
   "source": [
    "print('Number of instances = %d' % (data.shape[0]))\n",
    "print('Number of attributes = %d' % (data.shape[1]))\n",
    "\n",
    "print('Number of missing values:')\n",
    "for col in data.columns:\n",
    "    print('\\t%s: %d (%5.2f%%)' % (col,data[col].isna().sum(), data[col].isna().sum()/len(data)*100))"
   ]
  },
  {
   "cell_type": "code",
   "execution_count": 5,
   "metadata": {},
   "outputs": [],
   "source": [
    "#Limpeza dos dados\n",
    "data.dropna(inplace=True)"
   ]
  },
  {
   "cell_type": "code",
   "execution_count": 6,
   "metadata": {},
   "outputs": [],
   "source": [
    "# Criando as classes de preço\n",
    "data['PriceRange'] = pd.cut(data['Price'],[0,500000,1000000,1500000,np.inf],labels=['Baixo','Médio','Alto','Altíssimo'])"
   ]
  },
  {
   "cell_type": "code",
   "execution_count": 7,
   "metadata": {},
   "outputs": [
    {
     "output_type": "execute_result",
     "data": {
      "text/plain": [
       "       Suburb  Rooms Type  Distance  Postcode  Bedroom2  Bathroom  Car  \\\n",
       "1  Abbotsford      2    h       2.5    3067.0       2.0       1.0  0.0   \n",
       "2  Abbotsford      3    h       2.5    3067.0       3.0       2.0  0.0   \n",
       "4  Abbotsford      4    h       2.5    3067.0       3.0       1.0  2.0   \n",
       "6  Abbotsford      3    h       2.5    3067.0       4.0       2.0  0.0   \n",
       "7  Abbotsford      2    h       2.5    3067.0       2.0       1.0  2.0   \n",
       "\n",
       "   Landsize  BuildingArea  YearBuilt CouncilArea             Regionname  \\\n",
       "1     156.0          79.0     1900.0       Yarra  Northern Metropolitan   \n",
       "2     134.0         150.0     1900.0       Yarra  Northern Metropolitan   \n",
       "4     120.0         142.0     2014.0       Yarra  Northern Metropolitan   \n",
       "6     245.0         210.0     1910.0       Yarra  Northern Metropolitan   \n",
       "7     256.0         107.0     1890.0       Yarra  Northern Metropolitan   \n",
       "\n",
       "   Propertycount PriceRange  \n",
       "1         4019.0       Alto  \n",
       "2         4019.0       Alto  \n",
       "4         4019.0  Altíssimo  \n",
       "6         4019.0  Altíssimo  \n",
       "7         4019.0  Altíssimo  "
      ],
      "text/html": "<div>\n<style scoped>\n    .dataframe tbody tr th:only-of-type {\n        vertical-align: middle;\n    }\n\n    .dataframe tbody tr th {\n        vertical-align: top;\n    }\n\n    .dataframe thead th {\n        text-align: right;\n    }\n</style>\n<table border=\"1\" class=\"dataframe\">\n  <thead>\n    <tr style=\"text-align: right;\">\n      <th></th>\n      <th>Suburb</th>\n      <th>Rooms</th>\n      <th>Type</th>\n      <th>Distance</th>\n      <th>Postcode</th>\n      <th>Bedroom2</th>\n      <th>Bathroom</th>\n      <th>Car</th>\n      <th>Landsize</th>\n      <th>BuildingArea</th>\n      <th>YearBuilt</th>\n      <th>CouncilArea</th>\n      <th>Regionname</th>\n      <th>Propertycount</th>\n      <th>PriceRange</th>\n    </tr>\n  </thead>\n  <tbody>\n    <tr>\n      <th>1</th>\n      <td>Abbotsford</td>\n      <td>2</td>\n      <td>h</td>\n      <td>2.5</td>\n      <td>3067.0</td>\n      <td>2.0</td>\n      <td>1.0</td>\n      <td>0.0</td>\n      <td>156.0</td>\n      <td>79.0</td>\n      <td>1900.0</td>\n      <td>Yarra</td>\n      <td>Northern Metropolitan</td>\n      <td>4019.0</td>\n      <td>Alto</td>\n    </tr>\n    <tr>\n      <th>2</th>\n      <td>Abbotsford</td>\n      <td>3</td>\n      <td>h</td>\n      <td>2.5</td>\n      <td>3067.0</td>\n      <td>3.0</td>\n      <td>2.0</td>\n      <td>0.0</td>\n      <td>134.0</td>\n      <td>150.0</td>\n      <td>1900.0</td>\n      <td>Yarra</td>\n      <td>Northern Metropolitan</td>\n      <td>4019.0</td>\n      <td>Alto</td>\n    </tr>\n    <tr>\n      <th>4</th>\n      <td>Abbotsford</td>\n      <td>4</td>\n      <td>h</td>\n      <td>2.5</td>\n      <td>3067.0</td>\n      <td>3.0</td>\n      <td>1.0</td>\n      <td>2.0</td>\n      <td>120.0</td>\n      <td>142.0</td>\n      <td>2014.0</td>\n      <td>Yarra</td>\n      <td>Northern Metropolitan</td>\n      <td>4019.0</td>\n      <td>Altíssimo</td>\n    </tr>\n    <tr>\n      <th>6</th>\n      <td>Abbotsford</td>\n      <td>3</td>\n      <td>h</td>\n      <td>2.5</td>\n      <td>3067.0</td>\n      <td>4.0</td>\n      <td>2.0</td>\n      <td>0.0</td>\n      <td>245.0</td>\n      <td>210.0</td>\n      <td>1910.0</td>\n      <td>Yarra</td>\n      <td>Northern Metropolitan</td>\n      <td>4019.0</td>\n      <td>Altíssimo</td>\n    </tr>\n    <tr>\n      <th>7</th>\n      <td>Abbotsford</td>\n      <td>2</td>\n      <td>h</td>\n      <td>2.5</td>\n      <td>3067.0</td>\n      <td>2.0</td>\n      <td>1.0</td>\n      <td>2.0</td>\n      <td>256.0</td>\n      <td>107.0</td>\n      <td>1890.0</td>\n      <td>Yarra</td>\n      <td>Northern Metropolitan</td>\n      <td>4019.0</td>\n      <td>Altíssimo</td>\n    </tr>\n  </tbody>\n</table>\n</div>"
     },
     "metadata": {},
     "execution_count": 7
    }
   ],
   "source": [
    "data.drop(['Address', 'Price', 'Method', 'SellerG', 'Date', 'Lattitude', 'Longtitude'], inplace=True, axis=1)\n",
    "\n",
    "data.head()"
   ]
  },
  {
   "cell_type": "code",
   "execution_count": 8,
   "metadata": {},
   "outputs": [],
   "source": [
    "# Set variables for the targets and features\n",
    "y = data['PriceRange']\n",
    "#NOTA: usando X com dummies para lidar com atributos nominais\n",
    "X = pd.get_dummies(data.drop(['PriceRange'], axis=1))"
   ]
  },
  {
   "source": [
    "## Holdout"
   ],
   "cell_type": "markdown",
   "metadata": {}
  },
  {
   "cell_type": "code",
   "execution_count": 9,
   "metadata": {},
   "outputs": [],
   "source": [
    "# Holdout\n",
    "train_X, test_X, train_y, test_y = train_test_split(X, y, random_state=7)"
   ]
  },
  {
   "source": [
    "## Random Forest Classifier"
   ],
   "cell_type": "markdown",
   "metadata": {}
  },
  {
   "cell_type": "code",
   "execution_count": 10,
   "metadata": {},
   "outputs": [
    {
     "output_type": "execute_result",
     "data": {
      "text/plain": [
       "RandomForestClassifier(random_state=7)"
      ]
     },
     "metadata": {},
     "execution_count": 10
    }
   ],
   "source": [
    "# Create the classifier and fit it to our training data\n",
    "model = RandomForestClassifier(random_state=7, n_estimators=100)\n",
    "model.fit(train_X, train_y)"
   ]
  },
  {
   "cell_type": "code",
   "execution_count": 11,
   "metadata": {},
   "outputs": [
    {
     "output_type": "stream",
     "name": "stdout",
     "text": [
      "Accuracy:  0.7527437056165268\n"
     ]
    }
   ],
   "source": [
    "# Predict classes given the validation features\n",
    "pred_y = model.predict(test_X)\n",
    "\n",
    "# Calculate the accuracy as our performance metric\n",
    "accuracy = metrics.accuracy_score(test_y, pred_y)\n",
    "print(\"Accuracy: \", accuracy)"
   ]
  },
  {
   "cell_type": "code",
   "execution_count": 12,
   "metadata": {},
   "outputs": [
    {
     "output_type": "stream",
     "name": "stdout",
     "text": [
      "Confusion matrix:\n[[218  47   1  89]\n [ 51 226   0   5]\n [  0   1 124  78]\n [ 69   4  38 598]]\n\nNormalized confusion matrix:\n[[0.61408451 0.13239437 0.0028169  0.25070423]\n [0.18085106 0.80141844 0.         0.0177305 ]\n [0.         0.00492611 0.61083744 0.38423645]\n [0.09732017 0.00564175 0.05359661 0.84344147]]\n"
     ]
    },
    {
     "output_type": "execute_result",
     "data": {
      "text/plain": [
       "<matplotlib.image.AxesImage at 0x2087c936880>"
      ]
     },
     "metadata": {},
     "execution_count": 12
    },
    {
     "output_type": "display_data",
     "data": {
      "text/plain": "<Figure size 288x288 with 1 Axes>",
      "image/svg+xml": "<?xml version=\"1.0\" encoding=\"utf-8\" standalone=\"no\"?>\r\n<!DOCTYPE svg PUBLIC \"-//W3C//DTD SVG 1.1//EN\"\r\n  \"http://www.w3.org/Graphics/SVG/1.1/DTD/svg11.dtd\">\r\n<!-- Created with matplotlib (https://matplotlib.org/) -->\r\n<svg height=\"257.778125pt\" version=\"1.1\" viewBox=\"0 0 250.9625 257.778125\" width=\"250.9625pt\" xmlns=\"http://www.w3.org/2000/svg\" xmlns:xlink=\"http://www.w3.org/1999/xlink\">\r\n <metadata>\r\n  <rdf:RDF xmlns:cc=\"http://creativecommons.org/ns#\" xmlns:dc=\"http://purl.org/dc/elements/1.1/\" xmlns:rdf=\"http://www.w3.org/1999/02/22-rdf-syntax-ns#\">\r\n   <cc:Work>\r\n    <dc:type rdf:resource=\"http://purl.org/dc/dcmitype/StillImage\"/>\r\n    <dc:date>2021-03-26T18:31:03.598649</dc:date>\r\n    <dc:format>image/svg+xml</dc:format>\r\n    <dc:creator>\r\n     <cc:Agent>\r\n      <dc:title>Matplotlib v3.3.4, https://matplotlib.org/</dc:title>\r\n     </cc:Agent>\r\n    </dc:creator>\r\n   </cc:Work>\r\n  </rdf:RDF>\r\n </metadata>\r\n <defs>\r\n  <style type=\"text/css\">*{stroke-linecap:butt;stroke-linejoin:round;}</style>\r\n </defs>\r\n <g id=\"figure_1\">\r\n  <g id=\"patch_1\">\r\n   <path d=\"M 0 257.778125 \r\nL 250.9625 257.778125 \r\nL 250.9625 0 \r\nL 0 0 \r\nz\r\n\" style=\"fill:none;\"/>\r\n  </g>\r\n  <g id=\"axes_1\">\r\n   <g id=\"patch_2\">\r\n    <path d=\"M 20.5625 247.078125 \r\nL 243.7625 247.078125 \r\nL 243.7625 23.878125 \r\nL 20.5625 23.878125 \r\nz\r\n\" style=\"fill:#ffffff;\"/>\r\n   </g>\r\n   <g clip-path=\"url(#p12fec60ae2)\">\r\n    <image height=\"224\" id=\"imagec7874094f1\" transform=\"scale(1 -1)translate(0 -224)\" width=\"224\" x=\"20.5625\" xlink:href=\"data:image/png;base64,\r\niVBORw0KGgoAAAANSUhEUgAAAOAAAADgCAYAAAAaLWrhAAADBElEQVR4nO3VsSqwYQCGYR/KYEVZlDI4AIsyillZjX+ZTQ7DARgchcFGNoNBFuUcpH+TPkfxdhfXdQTPcvdMx7uX88Iv9v32Xk8YamljvZ4w1O3zXT1hqMV6APxlAoSQACEkQAgJEEIChJAAISRACAkQQgKEkAAhJEAICRBCAoSQACEkQAgJEEIChJAAISRACAkQQgKEkAAhJEAICRBCAoSQACEkQAgJEEIChJAAISRACAkQQgKEkAAhJEAICRBCAoSQACEkQAgJEEIChJAAISRACAkQQgKEkAAhJEAICRBCAoSQACEkQAgJEEIChJAAITQdTqdzPWKoaaoXDLV6v1ZPGOr1YaeeMJQHhJAAISRACAkQQgKEkAAhJEAICRBCAoSQACEkQAgJEEIChJAAISRACAkQQgKEkAAhJEAICRBCAoSQACEkQAgJEEIChJAAISRACAkQQgKEkAAhJEAICRBCAoSQACEkQAgJEEIChJAAISRACAkQQgKEkAAhJEAICRBCAoSQACEkQAgJEEIChJAAISRACAkQQgKEkAAhJEAILX8d7dUbhrq5vqonDPVv66CeMNT2ymc9YSgPCCEBQkiAEBIghAQIIQFCSIAQEiCEBAghAUJIgBASIIQECCEBQkiAEBIghAQIIQFCSIAQEiCEBAghAUJIgBASIIQECCEBQkiAEBIghAQIIQFCSIAQEiCEBAghAUJIgBASIIQECCEBQkiAEBIghAQIIQFCSIAQEiCEBAghAUJIgBASIIQECCEBQkiAEBIghAQIIQFCSIAQmk4ez+d6xEj/LzbrCUPNTy/1hKE+zvbrCUN5QAgJEEIChJAAISRACAkQQgKEkAAhJEAICRBCAoSQACEkQAgJEEIChJAAISRACAkQQgKEkAAhJEAICRBCAoSQACEkQAgJEEIChJAAISRACAkQQgKEkAAhJEAICRBCAoSQACEkQAgJEEIChJAAISRACAkQQgKEkAAhJEAICRBCAoSQACEkQAgJEEIChJAAISRACAkQQgKE0A/+JBo0woL9twAAAABJRU5ErkJggg==\" y=\"-23.078125\"/>\r\n   </g>\r\n   <g id=\"matplotlib.axis_1\">\r\n    <g id=\"xtick_1\">\r\n     <g id=\"line2d_1\">\r\n      <defs>\r\n       <path d=\"M 0 0 \r\nL 0 3.5 \r\n\" id=\"m7122a78c84\" style=\"stroke:#000000;stroke-width:0.8;\"/>\r\n      </defs>\r\n      <g>\r\n       <use style=\"stroke:#000000;stroke-width:0.8;\" x=\"48.4625\" xlink:href=\"#m7122a78c84\" y=\"247.078125\"/>\r\n      </g>\r\n     </g>\r\n     <g id=\"line2d_2\">\r\n      <defs>\r\n       <path d=\"M 0 0 \r\nL 0 -3.5 \r\n\" id=\"me8bff7645f\" style=\"stroke:#000000;stroke-width:0.8;\"/>\r\n      </defs>\r\n      <g>\r\n       <use style=\"stroke:#000000;stroke-width:0.8;\" x=\"48.4625\" xlink:href=\"#me8bff7645f\" y=\"23.878125\"/>\r\n      </g>\r\n     </g>\r\n     <g id=\"text_1\">\r\n      <!-- 0 -->\r\n      <g transform=\"translate(45.28125 14.798438)scale(0.1 -0.1)\">\r\n       <defs>\r\n        <path d=\"M 31.78125 66.40625 \r\nQ 24.171875 66.40625 20.328125 58.90625 \r\nQ 16.5 51.421875 16.5 36.375 \r\nQ 16.5 21.390625 20.328125 13.890625 \r\nQ 24.171875 6.390625 31.78125 6.390625 \r\nQ 39.453125 6.390625 43.28125 13.890625 \r\nQ 47.125 21.390625 47.125 36.375 \r\nQ 47.125 51.421875 43.28125 58.90625 \r\nQ 39.453125 66.40625 31.78125 66.40625 \r\nz\r\nM 31.78125 74.21875 \r\nQ 44.046875 74.21875 50.515625 64.515625 \r\nQ 56.984375 54.828125 56.984375 36.375 \r\nQ 56.984375 17.96875 50.515625 8.265625 \r\nQ 44.046875 -1.421875 31.78125 -1.421875 \r\nQ 19.53125 -1.421875 13.0625 8.265625 \r\nQ 6.59375 17.96875 6.59375 36.375 \r\nQ 6.59375 54.828125 13.0625 64.515625 \r\nQ 19.53125 74.21875 31.78125 74.21875 \r\nz\r\n\" id=\"DejaVuSans-48\"/>\r\n       </defs>\r\n       <use xlink:href=\"#DejaVuSans-48\"/>\r\n      </g>\r\n     </g>\r\n    </g>\r\n    <g id=\"xtick_2\">\r\n     <g id=\"line2d_3\">\r\n      <g>\r\n       <use style=\"stroke:#000000;stroke-width:0.8;\" x=\"104.2625\" xlink:href=\"#m7122a78c84\" y=\"247.078125\"/>\r\n      </g>\r\n     </g>\r\n     <g id=\"line2d_4\">\r\n      <g>\r\n       <use style=\"stroke:#000000;stroke-width:0.8;\" x=\"104.2625\" xlink:href=\"#me8bff7645f\" y=\"23.878125\"/>\r\n      </g>\r\n     </g>\r\n     <g id=\"text_2\">\r\n      <!-- 1 -->\r\n      <g transform=\"translate(101.08125 14.798438)scale(0.1 -0.1)\">\r\n       <defs>\r\n        <path d=\"M 12.40625 8.296875 \r\nL 28.515625 8.296875 \r\nL 28.515625 63.921875 \r\nL 10.984375 60.40625 \r\nL 10.984375 69.390625 \r\nL 28.421875 72.90625 \r\nL 38.28125 72.90625 \r\nL 38.28125 8.296875 \r\nL 54.390625 8.296875 \r\nL 54.390625 0 \r\nL 12.40625 0 \r\nz\r\n\" id=\"DejaVuSans-49\"/>\r\n       </defs>\r\n       <use xlink:href=\"#DejaVuSans-49\"/>\r\n      </g>\r\n     </g>\r\n    </g>\r\n    <g id=\"xtick_3\">\r\n     <g id=\"line2d_5\">\r\n      <g>\r\n       <use style=\"stroke:#000000;stroke-width:0.8;\" x=\"160.0625\" xlink:href=\"#m7122a78c84\" y=\"247.078125\"/>\r\n      </g>\r\n     </g>\r\n     <g id=\"line2d_6\">\r\n      <g>\r\n       <use style=\"stroke:#000000;stroke-width:0.8;\" x=\"160.0625\" xlink:href=\"#me8bff7645f\" y=\"23.878125\"/>\r\n      </g>\r\n     </g>\r\n     <g id=\"text_3\">\r\n      <!-- 2 -->\r\n      <g transform=\"translate(156.88125 14.798438)scale(0.1 -0.1)\">\r\n       <defs>\r\n        <path d=\"M 19.1875 8.296875 \r\nL 53.609375 8.296875 \r\nL 53.609375 0 \r\nL 7.328125 0 \r\nL 7.328125 8.296875 \r\nQ 12.9375 14.109375 22.625 23.890625 \r\nQ 32.328125 33.6875 34.8125 36.53125 \r\nQ 39.546875 41.84375 41.421875 45.53125 \r\nQ 43.3125 49.21875 43.3125 52.78125 \r\nQ 43.3125 58.59375 39.234375 62.25 \r\nQ 35.15625 65.921875 28.609375 65.921875 \r\nQ 23.96875 65.921875 18.8125 64.3125 \r\nQ 13.671875 62.703125 7.8125 59.421875 \r\nL 7.8125 69.390625 \r\nQ 13.765625 71.78125 18.9375 73 \r\nQ 24.125 74.21875 28.421875 74.21875 \r\nQ 39.75 74.21875 46.484375 68.546875 \r\nQ 53.21875 62.890625 53.21875 53.421875 \r\nQ 53.21875 48.921875 51.53125 44.890625 \r\nQ 49.859375 40.875 45.40625 35.40625 \r\nQ 44.1875 33.984375 37.640625 27.21875 \r\nQ 31.109375 20.453125 19.1875 8.296875 \r\nz\r\n\" id=\"DejaVuSans-50\"/>\r\n       </defs>\r\n       <use xlink:href=\"#DejaVuSans-50\"/>\r\n      </g>\r\n     </g>\r\n    </g>\r\n    <g id=\"xtick_4\">\r\n     <g id=\"line2d_7\">\r\n      <g>\r\n       <use style=\"stroke:#000000;stroke-width:0.8;\" x=\"215.8625\" xlink:href=\"#m7122a78c84\" y=\"247.078125\"/>\r\n      </g>\r\n     </g>\r\n     <g id=\"line2d_8\">\r\n      <g>\r\n       <use style=\"stroke:#000000;stroke-width:0.8;\" x=\"215.8625\" xlink:href=\"#me8bff7645f\" y=\"23.878125\"/>\r\n      </g>\r\n     </g>\r\n     <g id=\"text_4\">\r\n      <!-- 3 -->\r\n      <g transform=\"translate(212.68125 14.798438)scale(0.1 -0.1)\">\r\n       <defs>\r\n        <path d=\"M 40.578125 39.3125 \r\nQ 47.65625 37.796875 51.625 33 \r\nQ 55.609375 28.21875 55.609375 21.1875 \r\nQ 55.609375 10.40625 48.1875 4.484375 \r\nQ 40.765625 -1.421875 27.09375 -1.421875 \r\nQ 22.515625 -1.421875 17.65625 -0.515625 \r\nQ 12.796875 0.390625 7.625 2.203125 \r\nL 7.625 11.71875 \r\nQ 11.71875 9.328125 16.59375 8.109375 \r\nQ 21.484375 6.890625 26.8125 6.890625 \r\nQ 36.078125 6.890625 40.9375 10.546875 \r\nQ 45.796875 14.203125 45.796875 21.1875 \r\nQ 45.796875 27.640625 41.28125 31.265625 \r\nQ 36.765625 34.90625 28.71875 34.90625 \r\nL 20.21875 34.90625 \r\nL 20.21875 43.015625 \r\nL 29.109375 43.015625 \r\nQ 36.375 43.015625 40.234375 45.921875 \r\nQ 44.09375 48.828125 44.09375 54.296875 \r\nQ 44.09375 59.90625 40.109375 62.90625 \r\nQ 36.140625 65.921875 28.71875 65.921875 \r\nQ 24.65625 65.921875 20.015625 65.03125 \r\nQ 15.375 64.15625 9.8125 62.3125 \r\nL 9.8125 71.09375 \r\nQ 15.4375 72.65625 20.34375 73.4375 \r\nQ 25.25 74.21875 29.59375 74.21875 \r\nQ 40.828125 74.21875 47.359375 69.109375 \r\nQ 53.90625 64.015625 53.90625 55.328125 \r\nQ 53.90625 49.265625 50.4375 45.09375 \r\nQ 46.96875 40.921875 40.578125 39.3125 \r\nz\r\n\" id=\"DejaVuSans-51\"/>\r\n       </defs>\r\n       <use xlink:href=\"#DejaVuSans-51\"/>\r\n      </g>\r\n     </g>\r\n    </g>\r\n   </g>\r\n   <g id=\"matplotlib.axis_2\">\r\n    <g id=\"ytick_1\">\r\n     <g id=\"line2d_9\">\r\n      <defs>\r\n       <path d=\"M 0 0 \r\nL -3.5 0 \r\n\" id=\"mb14cedcf97\" style=\"stroke:#000000;stroke-width:0.8;\"/>\r\n      </defs>\r\n      <g>\r\n       <use style=\"stroke:#000000;stroke-width:0.8;\" x=\"20.5625\" xlink:href=\"#mb14cedcf97\" y=\"51.778125\"/>\r\n      </g>\r\n     </g>\r\n     <g id=\"text_5\">\r\n      <!-- 0 -->\r\n      <g transform=\"translate(7.2 55.577344)scale(0.1 -0.1)\">\r\n       <use xlink:href=\"#DejaVuSans-48\"/>\r\n      </g>\r\n     </g>\r\n    </g>\r\n    <g id=\"ytick_2\">\r\n     <g id=\"line2d_10\">\r\n      <g>\r\n       <use style=\"stroke:#000000;stroke-width:0.8;\" x=\"20.5625\" xlink:href=\"#mb14cedcf97\" y=\"107.578125\"/>\r\n      </g>\r\n     </g>\r\n     <g id=\"text_6\">\r\n      <!-- 1 -->\r\n      <g transform=\"translate(7.2 111.377344)scale(0.1 -0.1)\">\r\n       <use xlink:href=\"#DejaVuSans-49\"/>\r\n      </g>\r\n     </g>\r\n    </g>\r\n    <g id=\"ytick_3\">\r\n     <g id=\"line2d_11\">\r\n      <g>\r\n       <use style=\"stroke:#000000;stroke-width:0.8;\" x=\"20.5625\" xlink:href=\"#mb14cedcf97\" y=\"163.378125\"/>\r\n      </g>\r\n     </g>\r\n     <g id=\"text_7\">\r\n      <!-- 2 -->\r\n      <g transform=\"translate(7.2 167.177344)scale(0.1 -0.1)\">\r\n       <use xlink:href=\"#DejaVuSans-50\"/>\r\n      </g>\r\n     </g>\r\n    </g>\r\n    <g id=\"ytick_4\">\r\n     <g id=\"line2d_12\">\r\n      <g>\r\n       <use style=\"stroke:#000000;stroke-width:0.8;\" x=\"20.5625\" xlink:href=\"#mb14cedcf97\" y=\"219.178125\"/>\r\n      </g>\r\n     </g>\r\n     <g id=\"text_8\">\r\n      <!-- 3 -->\r\n      <g transform=\"translate(7.2 222.977344)scale(0.1 -0.1)\">\r\n       <use xlink:href=\"#DejaVuSans-51\"/>\r\n      </g>\r\n     </g>\r\n    </g>\r\n   </g>\r\n   <g id=\"patch_3\">\r\n    <path d=\"M 20.5625 247.078125 \r\nL 20.5625 23.878125 \r\n\" style=\"fill:none;stroke:#000000;stroke-linecap:square;stroke-linejoin:miter;stroke-width:0.8;\"/>\r\n   </g>\r\n   <g id=\"patch_4\">\r\n    <path d=\"M 243.7625 247.078125 \r\nL 243.7625 23.878125 \r\n\" style=\"fill:none;stroke:#000000;stroke-linecap:square;stroke-linejoin:miter;stroke-width:0.8;\"/>\r\n   </g>\r\n   <g id=\"patch_5\">\r\n    <path d=\"M 20.5625 247.078125 \r\nL 243.7625 247.078125 \r\n\" style=\"fill:none;stroke:#000000;stroke-linecap:square;stroke-linejoin:miter;stroke-width:0.8;\"/>\r\n   </g>\r\n   <g id=\"patch_6\">\r\n    <path d=\"M 20.5625 23.878125 \r\nL 243.7625 23.878125 \r\n\" style=\"fill:none;stroke:#000000;stroke-linecap:square;stroke-linejoin:miter;stroke-width:0.8;\"/>\r\n   </g>\r\n  </g>\r\n </g>\r\n <defs>\r\n  <clipPath id=\"p12fec60ae2\">\r\n   <rect height=\"223.2\" width=\"223.2\" x=\"20.5625\" y=\"23.878125\"/>\r\n  </clipPath>\r\n </defs>\r\n</svg>\r\n",
      "image/png": "[encoded data removed]"
     },
     "metadata": {
      "needs_background": "light"
     }
    }
   ],
   "source": [
    "# Calculate the confusion matrix itself\n",
    "confusion = metrics.confusion_matrix(test_y, pred_y)\n",
    "print(f\"Confusion matrix:\\n{confusion}\")\n",
    "\n",
    "normalizedConfusion = np.array([])\n",
    "\n",
    "# Normalizing by the true label counts to get rates\n",
    "for row in confusion:\n",
    "    normalizedConfusion = np.append( normalizedConfusion, row/row.sum())\n",
    "\n",
    "normalizedConfusion = np.reshape(normalizedConfusion,(4,4))\n",
    "\n",
    "\n",
    "print(f\"\\nNormalized confusion matrix:\")\n",
    "print(normalizedConfusion)\n",
    "\n",
    "plt.matshow(normalizedConfusion)"
   ]
  },
  {
   "source": [
    "## K-Nearest Neighbors"
   ],
   "cell_type": "markdown",
   "metadata": {}
  },
  {
   "cell_type": "code",
   "execution_count": 13,
   "metadata": {},
   "outputs": [],
   "source": [
    "#KNN\n",
    "from sklearn.neighbors import KNeighborsClassifier\n",
    "classifier = KNeighborsClassifier(n_neighbors=5)\n",
    "classifier.fit(train_X, train_y)\n",
    "pred_y = classifier.predict(test_X)"
   ]
  },
  {
   "cell_type": "code",
   "execution_count": 14,
   "metadata": {},
   "outputs": [
    {
     "output_type": "execute_result",
     "data": {
      "text/plain": [
       "array(['Médio', 'Baixo', 'Alto', ..., 'Médio', 'Alto', 'Médio'],\n",
       "      dtype=object)"
      ]
     },
     "metadata": {},
     "execution_count": 14
    }
   ],
   "source": [
    "pred_y"
   ]
  },
  {
   "cell_type": "code",
   "execution_count": 15,
   "metadata": {},
   "outputs": [
    {
     "output_type": "stream",
     "name": "stdout",
     "text": [
      "[[200  47   4 104]\n [ 70 185   5  22]\n [ 13   3 115  72]\n [ 92  21  80 516]]\n              precision    recall  f1-score   support\n\n        Alto       0.53      0.56      0.55       355\n   Altíssimo       0.72      0.66      0.69       282\n       Baixo       0.56      0.57      0.57       203\n       Médio       0.72      0.73      0.73       709\n\n    accuracy                           0.66      1549\n   macro avg       0.64      0.63      0.63      1549\nweighted avg       0.66      0.66      0.66      1549\n\n"
     ]
    }
   ],
   "source": [
    "from sklearn.metrics import classification_report, confusion_matrix\n",
    "print(confusion_matrix(test_y, pred_y))\n",
    "print(classification_report(test_y, pred_y))"
   ]
  },
  {
   "source": [
    "## Naïve Bayes"
   ],
   "cell_type": "markdown",
   "metadata": {}
  },
  {
   "cell_type": "code",
   "execution_count": 16,
   "metadata": {},
   "outputs": [
    {
     "output_type": "stream",
     "name": "stdout",
     "text": [
      "Number of mislabeled points out of a total 1549 points : 695\n"
     ]
    }
   ],
   "source": [
    "# Naive Bayes\n",
    "from sklearn.naive_bayes import GaussianNB\n",
    "gnb = GaussianNB()\n",
    "model = gnb.fit(train_X, train_y)\n",
    "y_pred = model.predict(test_X)\n",
    "print(\"Number of mislabeled points out of a total %d points : %d\"\n",
    "      % (test_X.shape[0], (test_y != y_pred).sum()))"
   ]
  },
  {
   "cell_type": "code",
   "execution_count": 17,
   "metadata": {},
   "outputs": [
    {
     "output_type": "stream",
     "name": "stdout",
     "text": [
      "[[209  97  30  19]\n [ 59 222   1   0]\n [  5   2 159  37]\n [183  41 221 264]]\n              precision    recall  f1-score   support\n\n        Alto       0.46      0.59      0.52       355\n   Altíssimo       0.61      0.79      0.69       282\n       Baixo       0.39      0.78      0.52       203\n       Médio       0.82      0.37      0.51       709\n\n    accuracy                           0.55      1549\n   macro avg       0.57      0.63      0.56      1549\nweighted avg       0.65      0.55      0.55      1549\n\n"
     ]
    }
   ],
   "source": [
    "from sklearn.metrics import classification_report, confusion_matrix\n",
    "print(confusion_matrix(test_y, y_pred))\n",
    "print(classification_report(test_y, y_pred))"
   ]
  },
  {
   "source": [
    "## Multilayer Perceptron"
   ],
   "cell_type": "markdown",
   "metadata": {}
  },
  {
   "cell_type": "code",
   "execution_count": 18,
   "metadata": {},
   "outputs": [],
   "source": [
    "# MLP\n",
    "from keras.models import Sequential\n",
    "from keras.layers import Dense\n",
    "from keras.wrappers.scikit_learn import KerasClassifier\n",
    "from keras.utils import np_utils\n",
    "from sklearn.model_selection import cross_val_score\n",
    "from sklearn.model_selection import KFold\n",
    "from sklearn.preprocessing import LabelEncoder\n",
    "\n",
    "# Set variables for the targets and features\n",
    "# y = data['PriceRange']\n",
    "#NOTA: usando X com dummies para lidar com atributos nominais\n",
    "# X = pd.get_dummies(data.drop(['Address', 'Price', 'Method', 'SellerG', 'Date', 'Lattitude', 'Longtitude'], axis=1))\n",
    "\n",
    "\n",
    "X_train, X_test, y_train, y_test = train_test_split(X, y, random_state=7)\n",
    "\n",
    "# encode class values as integers\n",
    "encoder = LabelEncoder()\n",
    "encoder.fit(y)\n",
    "encoded_Y = encoder.transform(y)\n",
    "# convert integers to dummy variables (i.e. one hot encoded)\n",
    "dummy_y = np_utils.to_categorical(encoded_Y)"
   ]
  },
  {
   "cell_type": "code",
   "execution_count": 19,
   "metadata": {},
   "outputs": [
    {
     "output_type": "stream",
     "name": "stdout",
     "text": [
      "       Rooms  Distance  Postcode  Bedroom2  Bathroom  Car  Landsize  \\\n1          2       2.5    3067.0       2.0       1.0  0.0     156.0   \n2          3       2.5    3067.0       3.0       2.0  0.0     134.0   \n4          4       2.5    3067.0       3.0       1.0  2.0     120.0   \n6          3       2.5    3067.0       4.0       2.0  0.0     245.0   \n7          2       2.5    3067.0       2.0       1.0  2.0     256.0   \n...      ...       ...       ...       ...       ...  ...       ...   \n12205      3      35.5    3757.0       3.0       2.0  1.0     972.0   \n12206      3       6.8    3016.0       3.0       1.0  0.0     179.0   \n12207      1       6.8    3016.0       1.0       1.0  1.0       0.0   \n12209      2       4.6    3181.0       2.0       1.0  1.0       0.0   \n12212      6       6.3    3013.0       6.0       3.0  2.0    1087.0   \n\n       BuildingArea  YearBuilt  Propertycount  ...  CouncilArea_Yarra  \\\n1             79.00     1900.0         4019.0  ...                  1   \n2            150.00     1900.0         4019.0  ...                  1   \n4            142.00     2014.0         4019.0  ...                  1   \n6            210.00     1910.0         4019.0  ...                  1   \n7            107.00     1890.0         4019.0  ...                  1   \n...             ...        ...            ...  ...                ...   \n12205        149.00     1996.0         2170.0  ...                  0   \n12206        115.00     1890.0         6380.0  ...                  0   \n12207         35.64     1967.0         6380.0  ...                  0   \n12209         61.60     2012.0         4380.0  ...                  0   \n12212        388.50     1920.0         6543.0  ...                  0   \n\n       CouncilArea_Yarra Ranges  Regionname_Eastern Metropolitan  \\\n1                             0                                0   \n2                             0                                0   \n4                             0                                0   \n6                             0                                0   \n7                             0                                0   \n...                         ...                              ...   \n12205                         0                                0   \n12206                         0                                0   \n12207                         0                                0   \n12209                         0                                0   \n12212                         0                                0   \n\n       Regionname_Eastern Victoria  Regionname_Northern Metropolitan  \\\n1                                0                                 1   \n2                                0                                 1   \n4                                0                                 1   \n6                                0                                 1   \n7                                0                                 1   \n...                            ...                               ...   \n12205                            0                                 0   \n12206                            0                                 0   \n12207                            0                                 0   \n12209                            0                                 0   \n12212                            0                                 0   \n\n       Regionname_Northern Victoria  Regionname_South-Eastern Metropolitan  \\\n1                                 0                                      0   \n2                                 0                                      0   \n4                                 0                                      0   \n6                                 0                                      0   \n7                                 0                                      0   \n...                             ...                                    ...   \n12205                             1                                      0   \n12206                             0                                      0   \n12207                             0                                      0   \n12209                             0                                      0   \n12212                             0                                      0   \n\n       Regionname_Southern Metropolitan  Regionname_Western Metropolitan  \\\n1                                     0                                0   \n2                                     0                                0   \n4                                     0                                0   \n6                                     0                                0   \n7                                     0                                0   \n...                                 ...                              ...   \n12205                                 0                                0   \n12206                                 0                                1   \n12207                                 0                                1   \n12209                                 1                                0   \n12212                                 0                                1   \n\n       Regionname_Western Victoria  \n1                                0  \n2                                0  \n4                                0  \n6                                0  \n7                                0  \n...                            ...  \n12205                            0  \n12206                            0  \n12207                            0  \n12209                            0  \n12212                            0  \n\n[6196 rows x 339 columns]\n1             Alto\n2             Alto\n4        Altíssimo\n6        Altíssimo\n7        Altíssimo\n           ...    \n12205        Médio\n12206         Alto\n12207        Baixo\n12209        Médio\n12212    Altíssimo\nName: PriceRange, Length: 6196, dtype: category\nCategories (4, object): ['Baixo' < 'Médio' < 'Alto' < 'Altíssimo']\nInput layers:  339\n"
     ]
    }
   ],
   "source": [
    "# print(X)\n",
    "# print(y)\n",
    "print(\"Input size: \", len(X.columns))"
   ]
  },
  {
   "cell_type": "code",
   "execution_count": 20,
   "metadata": {},
   "outputs": [],
   "source": [
    "# define baseline model\n",
    "def baseline_model():\n",
    "    input_size = len(X.columns)\n",
    "\n",
    "    # create model\n",
    "    model = Sequential()\n",
    "    model.add(Dense(8, input_dim=input_size, activation='relu'))\n",
    "    model.add(Dense(4, activation='softmax'))\n",
    "\n",
    "    # Compile model\n",
    "    model.compile(loss='categorical_crossentropy', optimizer='adam', metrics=['accuracy'])\n",
    "    \n",
    "    return model"
   ]
  },
  {
   "cell_type": "code",
   "execution_count": 21,
   "metadata": {},
   "outputs": [],
   "source": [
    "estimator = KerasClassifier(build_fn=baseline_model, epochs=200, batch_size=5, verbose=0)"
   ]
  },
  {
   "cell_type": "code",
   "execution_count": 22,
   "metadata": {},
   "outputs": [],
   "source": [
    "kfold = KFold(n_splits=10, shuffle=True)"
   ]
  },
  {
   "cell_type": "code",
   "execution_count": 23,
   "metadata": {
    "tags": []
   },
   "outputs": [
    {
     "output_type": "stream",
     "name": "stdout",
     "text": [
      "Baseline: 55.52% (12.44%)\n"
     ]
    }
   ],
   "source": [
    "results = cross_val_score(estimator, X, dummy_y, cv=kfold)\n",
    "print(\"Baseline: %.2f%% (%.2f%%)\" % (results.mean()*100, results.std()*100))"
   ]
  },
  {
   "cell_type": "code",
   "execution_count": 24,
   "metadata": {},
   "outputs": [
    {
     "output_type": "execute_result",
     "data": {
      "text/plain": [
       "0.410146927003316"
      ]
     },
     "metadata": {},
     "execution_count": 24
    }
   ],
   "source": [
    "#Kappa \n",
    "from sklearn.metrics import cohen_kappa_score\n",
    "cohen_kappa_score(y_test, y_pred)"
   ]
  },
  {
   "source": [
    "## Curva ROC e AUC\n",
    "\n",
    "TODO"
   ],
   "cell_type": "markdown",
   "metadata": {}
  }
 ]
}